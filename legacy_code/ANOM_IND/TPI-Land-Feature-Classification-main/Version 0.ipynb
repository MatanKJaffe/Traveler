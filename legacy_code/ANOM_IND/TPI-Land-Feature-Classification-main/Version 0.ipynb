{
 "cells": [
  {
   "cell_type": "code",
   "execution_count": 5,
   "id": "7f81f2ac",
   "metadata": {
    "ExecuteTime": {
     "end_time": "2022-03-23T06:57:02.776649Z",
     "start_time": "2022-03-23T06:57:01.784945Z"
    }
   },
   "outputs": [
    {
     "name": "stdout",
     "output_type": "stream",
     "text": [
      "finished\n",
      "Using matplotlib backend: TkAgg\n"
     ]
    }
   ],
   "source": [
    "#!/usr/bin/env python\n",
    "#-*- coding: utf-8- -*-\n",
    "import warnings \n",
    "warnings.filterwarnings(\"ignore\")\n",
    "\n",
    "#load prerequisite librarys  for running the code \n",
    "from osgeo import gdal\n",
    "import numpy as np\n",
    "#import pandas as pd\n",
    "import matplotlib.pyplot as plt\n",
    "\n",
    "import shapely\n",
    "\n",
    "\n",
    "\n",
    "#get sample data \n",
    "dem_data = gdal.Open(\"ALASKA/Alaska.tif\")\n",
    "#set raster data as array\n",
    "dem_array = dem_data.GetRasterBand(1).ReadAsArray()\n",
    "#dem_array[dem_array == 0] = np.nan\n",
    "#get the geotransform data from the raster\n",
    "transform = dem_data.GetGeoTransform()\n",
    "print(\"finished\")\n",
    "%matplotlib"
   ]
  },
  {
   "cell_type": "code",
   "execution_count": null,
   "id": "07cb6bdb",
   "metadata": {
    "ExecuteTime": {
     "start_time": "2022-03-23T06:57:04.149Z"
    }
   },
   "outputs": [],
   "source": [
    "transform"
   ]
  },
  {
   "cell_type": "code",
   "execution_count": 2,
   "id": "c4e64c57",
   "metadata": {
    "ExecuteTime": {
     "end_time": "2022-03-15T18:51:32.945409Z",
     "start_time": "2022-03-15T18:51:32.935402Z"
    }
   },
   "outputs": [
    {
     "data": {
      "text/plain": [
       "(5846, 2917)"
      ]
     },
     "execution_count": 2,
     "metadata": {},
     "output_type": "execute_result"
    }
   ],
   "source": [
    "dem_array.shape"
   ]
  },
  {
   "cell_type": "code",
   "execution_count": null,
   "id": "3ce143ea",
   "metadata": {
    "ExecuteTime": {
     "start_time": "2022-03-23T06:55:33.819Z"
    }
   },
   "outputs": [],
   "source": [
    "#get raster base data\n",
    "dem = gdal.Open(\"ALASKA/Alaska.tif\")\n",
    "print(1)\n",
    "#set raster data as array\n",
    "dem_array = dem_data.GetRasterBand(1).ReadAsArray()\n",
    "print(2)\n",
    "#get the geotransform data from the raster\n",
    "transform = dem_data.GetGeoTransform()\n",
    "print(3)\n",
    "#get projection data\n",
    "projection = dem_data.GetProjection()\n",
    "print(4)\n",
    "#get the rasters resolution\n",
    "resolution = transform[1]\n",
    "print(5)"
   ]
  },
  {
   "cell_type": "code",
   "execution_count": null,
   "id": "98cea2c9",
   "metadata": {
    "ExecuteTime": {
     "start_time": "2022-03-23T06:55:39.089Z"
    }
   },
   "outputs": [],
   "source": [
    "transform"
   ]
  },
  {
   "cell_type": "markdown",
   "id": "db54bc06",
   "metadata": {},
   "source": [
    "TODO:\n",
    "- read up on threading pools\n",
    "- write out itterative tpi  hierarchys calculator\n",
    "- build visualization class\n",
    "- build class with cleancode\n",
    "- run tpi for 1000, 300, 50, 10, 30, 500"
   ]
  },
  {
   "cell_type": "code",
   "execution_count": null,
   "id": "6414734e",
   "metadata": {},
   "outputs": [],
   "source": []
  },
  {
   "cell_type": "code",
   "execution_count": null,
   "id": "4085b062",
   "metadata": {
    "ExecuteTime": {
     "end_time": "2022-03-07T13:34:53.145319Z",
     "start_time": "2022-03-07T13:34:53.042243Z"
    }
   },
   "outputs": [],
   "source": [
    "class TPI_Land_Form_Classification:\n",
    "    \"\"\"\n",
    "    Class prefroming automated landform recognition and transposition from raster to vector layers\n",
    "    \n",
    "    \"\"\"\n",
    "    def __init__(self , elevation_model = \"\" , TPI_Radius_m_lst = []):\n",
    "        \"\"\"\n",
    "        Base init Function\n",
    "        - TPI_Radius_m_lst: list of tpi values to comput for land feature recognition\n",
    "        - elevation_model: str the directory for the input elevation_model\n",
    "        \"\"\"\n",
    "        \"\"\"\n",
    "        TODO : add all of these natively t\n",
    "        #!/usr/bin/env python\n",
    "        #-*- coding: utf-8- -*-\n",
    "        import warnings \n",
    "        warnings.filterwarnings(\"ignore\")\n",
    "\n",
    "        #load prerequisite librarys  for running the code \n",
    "        from osgeo import gdal\n",
    "        import numpy as np\n",
    "        import pandas as pd\n",
    "        import matplotlib.pyplot as plt\n",
    "        import shapely\"\"\"\n",
    "        \n",
    "        self.elevation_model = elevation_model\n",
    "        self.TPI_Radius_m_lst = TPI_Radius_m_lst\n",
    "        \n",
    "        assert type(TPI_Radius_m_lst) == list , \"Please enter a list of integer values to TPI_Radius_m_lst\"\n",
    "        assert len(elevation_model) > 0 , \"please enter a valid directory string leading to a GeoTiff file\"\n",
    "        \n",
    "    def get_raster_data(self, elevation_model):\n",
    "        \"\"\"\n",
    "        Function returning numpy array from elevation_model along with resolution of said array\n",
    "         - elevation_model: str the directory for the input elevation_model\n",
    "        \"\"\"\n",
    "        #get raster base data\n",
    "        dem = gdal.Open(elevation_model)\n",
    "        #set raster data as array\n",
    "        dem_array = dem_data.GetRasterBand(1).ReadAsArray()\n",
    "        #get the geotransform data from the raster\n",
    "        transform = dem_data.GetGeoTransform()\n",
    "        #get projection data\n",
    "        projection = dem_data.GetProjection()\n",
    "        #get the rasters resolution\n",
    "        resolution = transform[1]\n",
    "        \n",
    "        return projection ,transform, resolution, dem_array\n",
    "    \n",
    "    \n",
    "    def write_output(self, output_model, output_data, original_transform, original_projection):\n",
    "        \"\"\"\n",
    "        Function writing array to GeoTiff file in user specified directory\n",
    "        - output_model: str the directory for the output model\n",
    "        - output_data: numpy array that the user defines\n",
    "        - original_transform: tupel original raster geotransform\n",
    "        - original_projection: tupel original raster projection\n",
    "        \"\"\"\n",
    "        # set driver\n",
    "        driver = gdal.GetDriverByName('GTiff')\n",
    "        #set output driver and instance new raster\n",
    "        ds = driver.Create(output_model, output_data.shape[1], output_data.shape[0], 1, gdal.GDT_Float32) \n",
    "        #set new raster metadata by old raster metadata\n",
    "        ds.SetProjection(dem.GetProjection())\n",
    "        ds.SetGeoTransform(dem.GetGeoTransform())\n",
    "        ds.GetRasterBand(1).WriteArray(out)\n",
    "        #remove writen raster from memory\n",
    "        ds.FlushCache()\n",
    "        ds = None\n",
    "        \n",
    "    #with numpy.mean()\n",
    "    def downsample_res_avg(self, array, scale):\n",
    "        \"\"\"\n",
    "        Function downsampling elevation model by input scale value, aggrigating values by average\n",
    "        - array: elevation model as ndarray\n",
    "        - scale: the value by which the user would like to simplify the input array\n",
    "        \"\"\"\n",
    "        original_width = array.shape[1]\n",
    "        original_hight = array.shape[0]\n",
    "\n",
    "        width = int( original_width / scale)\n",
    "        hight = int(original_hight / scale)\n",
    "\n",
    "        resized_array = np.zeros(shape = (hight, width, 3) ,dtype = np.uint8)\n",
    "\n",
    "        for i in range(0, original_hight , scale):\n",
    "            for j in range(0, original_width , scale):\n",
    "                resized_array[int(i/scale)-1 , int(j/scale)-1 ] = np.mean(array[i:(i + scale), j:(j + scale)], axis = (0,1))\n",
    "\n",
    "        return resized_array\n",
    "\n",
    "    \n",
    "    def get_hillshade(self, slope_array, aspect_array, azimuth = \"90\", angle_altitude = 100, ):\n",
    "        \"\"\"\n",
    "        Function hillshade for each cell in input elevation model\n",
    "        - slope_array: elevation model slope values as ndarray\n",
    "        - aspect_array:  elevation model aspect values as ndarray\n",
    "        - azimuth: azimuth direction for hillshade algorithm calculation\n",
    "        - angle_altitude: altitude for angle calculation in hillshade algorithm\n",
    "        \"\"\"\n",
    "        azimuth = 360 - azimuth\n",
    "        azimuth_rad = azimuth *np.pi/180\n",
    "        altitude_rad = angle_altitude*np.pi/180\n",
    "        shade = np.sin(altitude_rad)*np.sin(slope) + np.cos(altitude_rad)*np.cos(slope)*np.cos((azimuth - np.pi/2)  - aspect)\n",
    "        hillshade = 255 * (shaded + 1)/2\n",
    "        return hillshade\n",
    "        \n",
    "\n",
    "    \n",
    "    def get_slope_and_aspect(self,array, in_degrees = True ):\n",
    "        \"\"\"\n",
    "        Function calculating slope and aspect for each cell in input elevation model\n",
    "        - array: elevation model as ndarray\n",
    "        - in_degrees: boolean switch for returning slope values ini degrees or decimals\n",
    "        \"\"\"\n",
    "        x,y = np.gradient(array)\n",
    "        slope = np.pi/2 - np.arctan(np.sqrt(x*x + y*y))\n",
    "        aspect = np.arctan2(-x,y)\n",
    "        if in_degrees is True:\n",
    "            slope = np.degrees(np.arctan(slope))\n",
    "        return slope, aspect\n",
    "    \n",
    "    def view (self, offset_y, offset_x, shape, step = 1):\n",
    "        print(\"test 1\")\n",
    "        \"\"\"\n",
    "        Function returning two matching numpy views for moving window routines.\n",
    "        - 'offset_y' and 'offset_x' refer to the shift in relation to the analysed (central) cell \n",
    "        - 'shape' are 2 dimensions of the data matrix (not of the window!)\n",
    "        - 'view_in' is the shifted view and 'view_out' is the position of central cells\n",
    "        \"\"\"\n",
    "        size_y, size_x = shape\n",
    "        x, y = abs(offset_x), abs(offset_y)\n",
    "\n",
    "        x_in = slice(x , size_x, step) \n",
    "        x_out = slice(0, size_x - x, step)\n",
    "\n",
    "        y_in = slice(y, size_y, step)\n",
    "        y_out = slice(0, size_y - y, step)\n",
    "\n",
    "        # the swapping trick    \n",
    "        if offset_x < 0: x_in, x_out = x_out, x_in                                 \n",
    "        if offset_y < 0: y_in, y_out = y_out, y_in\n",
    "\n",
    "        # return window view (in) and main view (out)\n",
    "        return np.s_[y_in, x_in], np.s_[y_out, x_out]\n",
    "\n",
    "        \n",
    "    def calculate_TPI(self, dem_array, radius_m, resolution):\n",
    "        \"\"\"\n",
    "        Function calculating TPI value of dem array at input radius \n",
    "        - dem_array: elevation model as numpy array\n",
    "        - radius_m: radius in meters for TPI calculation\n",
    "        - resolution: Resolution of original elevation model\n",
    "        \"\"\"\n",
    "        #radius in pixels\n",
    "        print(\"start\")\n",
    "        r = int(np.floor(radius_m/resolution))\n",
    "        #instance window\n",
    "        win = np.ones((2* r +1, 2* r +1))\n",
    "        # win = np.array( [    [0, 1, 1, 1, 0]\n",
    "        #                      [1, 1, 1, 1, 1],\n",
    "        #                      [1, 1, 0, 1, 1],\n",
    "        #                      [1, 1, 1, 1, 1],\n",
    "        #                      [0, 1, 1, 1, 0]  ])\n",
    "\n",
    "        # window radius is needed for the function,\n",
    "        # deduce from window size (can be different for height and width…)\n",
    "        r_y, r_x  = win.shape[0]//2, win.shape[1]//2\n",
    "        win[r_y, r_x  ] = 0  # let's remove the central cell \n",
    "\n",
    "        #matrices for temporary data\n",
    "        mx_temp = np.zeros(dem_array.shape)\n",
    "        mx_count = np.zeros(dem_array.shape)\n",
    "\n",
    "        # loop through window and accumulate values\n",
    "        for (y,x), weight in np.ndenumerate(win):\n",
    "\n",
    "            if weight == 0 : continue  #skip zero values !\n",
    "            # determine views to extract data \n",
    "            view_in, view_out = self.view(y - r_y, x - r_x, dem_array.shape)\n",
    "            # using window weights (eg. for a Gaussian function)\n",
    "            mx_temp[view_out] += dem_array[view_in]  * weight\n",
    "\n",
    "           # track the number of neighbours \n",
    "           # (this is used for weighted mean : Σ weights*val / Σ weights)\n",
    "            mx_count[view_out] += weight\n",
    "\n",
    "        # this is TPI (spot height – average neighbourhood height)\n",
    "        out = dem_array - mx_temp / mx_count\n",
    "        #normalize output\n",
    "        out = ((((out - out.mean()) / out.std()) * 100) + 0.5)\n",
    "        return out\n",
    "    \n",
    "    \n",
    "    def set_landform_classes(self, big_TPI_array ,small_TPI_array ,slope_array_deg ):\n",
    "        \"\"\"\n",
    "        Function generating landform class labels as described in http://www.jennessent.com/downloads/TPI-poster-TNC_18x22.pdf \n",
    "        - big_TPI_array ,small_TPI_array: larger  and smaller tpi arrays of the same shape \n",
    "        - slope_array_deg: array containig slope values in degrees\n",
    "        \"\"\"\n",
    "        #calculate standard deviation \n",
    "        std = big_TPI_array.std()\n",
    "        #instantiate zeros filled array of same size as input to hold tpi calculation valuse\n",
    "        landform_class_array = np.zeros(big_TPI_array.shape)\n",
    "\n",
    "        # LF = 5 | Broad Flat Areas | (slope = 0)\n",
    "        landform_class_array[((small_TPI_array > -std) & (small_TPI_array < std)) & ((big_TPI_array > -std) & (big_TPI_array < std)) & (slope_array_deg <= 5)] = 5\n",
    "\n",
    "        # LF = 6 | Broad open slopes | (slope > 0)\n",
    "        landform_class_array[((small_TPI_array > -std) & (small_TPI_array < std)) & ((big_TPI_array > -std) & (big_TPI_array < std)) & (slope_array_deg >= 6)] = 6\n",
    "\n",
    "        # LF = 7 | flat ridge tops | mesa tops\n",
    "        landform_class_array[((small_TPI_array > -std) & (small_TPI_array < std)) & (big_TPI_array >= std)] = 7\n",
    "\n",
    "        # LF = 4 | U-shape valleys\n",
    "        landform_class_array[((small_TPI_array > -std )& (small_TPI_array < std)) & (big_TPI_array <= -std)] = 4\n",
    "\n",
    "        # LF = 2 | Lateral midslope | incised drainages\n",
    "        landform_class_array[(small_TPI_array <= -std) & ((big_TPI_array > -std )& (big_TPI_array < std))] = 2\n",
    "\n",
    "        # LF = 9 | Lateral midslope |drainage divides\n",
    "        landform_class_array[(small_TPI_array >= std) & ((big_TPI_array > -std) & (big_TPI_array < std))] = 9\n",
    "\n",
    "        # LF = 3 | Upland incised |drainages |Stream headwaters\n",
    "        landform_class_array[ (small_TPI_array <= -std) & (big_TPI_array >= std)] = 3\n",
    "\n",
    "        # LF = 1 | V-shape river valleys | Deep narrow canyons\n",
    "        landform_class_array[(small_TPI_array <= -std) & (big_TPI_array <= -std)] = 1\n",
    "\n",
    "        # LF = 10 | mountain tops | High narrow ridges\n",
    "        landform_class_array[(small_TPI_array >= std) & (big_TPI_array >= std)] = 10\n",
    "\n",
    "        # LF = 8 |Local ridge/hilltops within | broad valleys\n",
    "        landform_class_array[(small_TPI_array >= std) & (big_TPI_array <= -std)] = 8\n",
    "\n",
    "        return landform_class_array\n",
    "    \n",
    "    def visualize(self, array,hillshade):\n",
    "        \"\"\"\n",
    "        Function visualizing the output from the TPI_Land_Form_Classification algorithm\n",
    "        - array: landfrom class labeled array\n",
    "        - hillshade: hillshade claculation output ndarray\n",
    "        \"\"\"\n",
    "        %matplotlib\n",
    "        \n",
    "        # blend hillshade and landform class arrays\n",
    "        blend = array*0.5 + hillshade*0.5\n",
    "        #print array as \n",
    "        plt.imshow(array)\n",
    "        plt.show()\n",
    "        \n",
    "        return\n",
    "    \n",
    "    def test_fit(self):\n",
    "        \"\"\"\n",
    "        Funcution running a mokup of the TPI_Land_Form_Classification algorithm\n",
    "        \"\"\"\n",
    "        #get dem data\n",
    "        projection ,transform, resolution, dem_array = self.get_raster_data(elevation_model = self.elevation_model)\n",
    "        \n",
    "        #calculate slope and aspect algorithm\n",
    "        slope_array, aspect_array =  self.get_slope_and_aspect(array = dem_array)\n",
    "        \n",
    "        #calculate large_tpi\n",
    "        tpi_big = self.calculate_TPI(dem_array = dem_array, radius_m = max(self.TPI_Radius_m_lst) ,resolution = resolution)\n",
    "        tpi_big[np.isnan(tpi_big)] = 0\n",
    "        \n",
    "        #calculate smaller_tpi\n",
    "        ##tpi_small = self.calculate_TPI(dem_array = dem_array, radius_m = max(self.TPI_Radius_m_lst) ,resolution = resolution)\n",
    "        #tpi_small[np.isnan(tpi_small)] = 0\n",
    "        \n",
    "        #calculate landform classes\n",
    "        #lf_array = self.set_landform_classes(tpi_big , tpi_smalli , slope_array)\n",
    "        \n",
    "        return tpi_big\n"
   ]
  },
  {
   "cell_type": "code",
   "execution_count": null,
   "id": "5469a793",
   "metadata": {
    "ExecuteTime": {
     "end_time": "2022-03-07T13:34:53.561571Z",
     "start_time": "2022-03-07T13:34:53.149321Z"
    }
   },
   "outputs": [],
   "source": [
    "Test = TPI_Land_Form_Classification(elevation_model = \"ALASKA/Alaska.tif\", TPI_Radius_m_lst = [10])\n",
    "lf_array = Test.test_fit()"
   ]
  },
  {
   "cell_type": "code",
   "execution_count": null,
   "id": "8e137563",
   "metadata": {
    "ExecuteTime": {
     "end_time": "2022-03-07T13:34:53.567562Z",
     "start_time": "2022-03-07T13:34:53.567562Z"
    }
   },
   "outputs": [],
   "source": [
    "plt.imshow(lf_array)\n",
    "plt.title(\"lf_array\")\n",
    "plt.colorbar()\n",
    "plt.show()\n"
   ]
  },
  {
   "cell_type": "code",
   "execution_count": null,
   "id": "51ab1478",
   "metadata": {
    "ExecuteTime": {
     "end_time": "2022-03-07T13:34:53.570564Z",
     "start_time": "2022-03-07T13:34:53.570564Z"
    }
   },
   "outputs": [],
   "source": [
    "#to do debug:\n",
    "find out why the function is takign so long and fix"
   ]
  },
  {
   "cell_type": "code",
   "execution_count": null,
   "id": "e9c76ff7",
   "metadata": {
    "ExecuteTime": {
     "start_time": "2022-03-07T13:36:15.880Z"
    }
   },
   "outputs": [],
   "source": []
  },
  {
   "cell_type": "code",
   "execution_count": null,
   "id": "4809e9fc",
   "metadata": {
    "ExecuteTime": {
     "end_time": "2022-03-07T13:34:53.574566Z",
     "start_time": "2022-03-07T13:34:53.574566Z"
    }
   },
   "outputs": [],
   "source": [
    "import numpy as np\n",
    "m = np.array([True,False ,True])\n",
    "m2 = np.array([False,False,True])\n",
    "\n",
    "m & m2\n"
   ]
  }
 ],
 "metadata": {
  "kernelspec": {
   "display_name": "ox",
   "language": "python",
   "name": "ox"
  },
  "language_info": {
   "codemirror_mode": {
    "name": "ipython",
    "version": 3
   },
   "file_extension": ".py",
   "mimetype": "text/x-python",
   "name": "python",
   "nbconvert_exporter": "python",
   "pygments_lexer": "ipython3",
   "version": "3.9.7"
  },
  "varInspector": {
   "cols": {
    "lenName": 16,
    "lenType": 16,
    "lenVar": 40
   },
   "kernels_config": {
    "python": {
     "delete_cmd_postfix": "",
     "delete_cmd_prefix": "del ",
     "library": "var_list.py",
     "varRefreshCmd": "print(var_dic_list())"
    },
    "r": {
     "delete_cmd_postfix": ") ",
     "delete_cmd_prefix": "rm(",
     "library": "var_list.r",
     "varRefreshCmd": "cat(var_dic_list()) "
    }
   },
   "types_to_exclude": [
    "module",
    "function",
    "builtin_function_or_method",
    "instance",
    "_Feature"
   ],
   "window_display": false
  }
 },
 "nbformat": 4,
 "nbformat_minor": 5
}
